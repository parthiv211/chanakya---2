{
 "cells": [
  {
   "cell_type": "code",
   "execution_count": 1,
   "metadata": {},
   "outputs": [],
   "source": [
    "import pandas as pd\n",
    "import json"
   ]
  },
  {
   "cell_type": "code",
   "execution_count": 2,
   "metadata": {},
   "outputs": [],
   "source": [
    "h = pd.read_csv('../static/hierarchy.csv')\n",
    "with open('../static/colors.json') as f:\n",
    "    colors = json.load(f)\n",
    "with open('../static/fieldoptions.json') as f:\n",
    "    fo = json.load(f)\n",
    "with open('../static/filters.json') as f:\n",
    "    filters = json.load(f)"
   ]
  },
  {
   "cell_type": "code",
   "execution_count": 3,
   "metadata": {},
   "outputs": [],
   "source": [
    "# sort colors\n",
    "\n",
    "for k in colors['colors'].keys():\n",
    "    colors['colors'][k] = sorted(colors['colors'][k])\n",
    "with open('../static/colors.json', 'w') as f:\n",
    "    json.dump(colors, f, indent=2)"
   ]
  },
  {
   "cell_type": "code",
   "execution_count": 4,
   "metadata": {},
   "outputs": [],
   "source": [
    "# add colors from colors.json to fieldoptions.json\n",
    "\n",
    "unique_colors = set()\n",
    "for k, v in colors['colors'].items():\n",
    "    unique_colors.update(v)\n",
    "fo['primary_colour'] = sorted(list(unique_colors))\n",
    "\n",
    "fo['story'] = sorted(fo['story'])\n",
    "fo['season'] = sorted(fo['season'])\n",
    "fo['exclusive'] = sorted(fo['exclusive'])\n",
    "fo['garment_pattern'] = sorted(fo['garment_pattern'])\n",
    "fo['print_pattern_type'] = sorted(fo['print_pattern_type'])\n",
    "fo['number_of_components'] = sorted(fo['number_of_components'])\n",
    "fo['number_of_pockets'] = sorted(fo['number_of_pockets'])\n",
    "fo['pocket_type'] = sorted(fo['pocket_type'])\n",
    "fo['neck'] = sorted(fo['neck'])\n",
    "fo['collar'] = sorted(fo['collar'])\n",
    "fo['placket'] = sorted(fo['placket'])\n",
    "fo['length'] = sorted(fo['length'])\n",
    "fo['sleeve_length'] = sorted(fo['sleeve_length'])\n",
    "fo['sleeve_type'] = sorted(fo['sleeve_type'])\n",
    "fo['hemline'] = sorted(fo['hemline'])\n",
    "fo['waist_rise'] = sorted(fo['waist_rise'])\n",
    "fo['footwear_ankle_type'] = sorted(fo['footwear_ankle_type'])\n",
    "fo['closure'] = sorted(fo['closure'])\n",
    "fo['footwear_insole'] = sorted(fo['footwear_insole'])\n",
    "fo['fabric_story'] = sorted(fo['fabric_story'])\n",
    "fo['fabric_weave_pattern'] = sorted(fo['fabric_weave_pattern'])\n",
    "fo['wash_care'] = sorted(fo['wash_care'])\n",
    "fo['footwear_upper_material'] = sorted(fo['footwear_upper_material'])\n",
    "fo['footwear_sole_material'] = sorted(fo['footwear_sole_material'])\n",
    "fo['fabric_composition'] = sorted(fo['fabric_composition'])\n",
    "fo['denim_cast'] = sorted(fo['denim_cast'])\n",
    "\n",
    "with open('../static/fieldoptions.json', 'w') as f:\n",
    "    json.dump(fo, f, indent=2)"
   ]
  },
  {
   "cell_type": "code",
   "execution_count": 5,
   "metadata": {},
   "outputs": [],
   "source": [
    "# add everything to the filters.json\n",
    "\n",
    "\n",
    "filters['secondary']['primary_colour'] = sorted(list(unique_colors))\n",
    "filters['primary']['colour_family'] = sorted(list(colors['colors'].keys()))\n",
    "\n",
    "filters['primary']['usage'] = sorted(h.usage.unique().tolist())\n",
    "filters['primary']['product'] = sorted(h['product'].unique().tolist())\n",
    "filters['primary']['sub_product'] = sorted(h['sub_product'].unique().tolist())\n",
    "filters['primary']['target_audience'] = sorted(h['target_audience'].unique().tolist())\n",
    "filters['primary']['fit'] = sorted(h['fit'].unique().tolist())\n",
    "\n",
    "filters['primary']['story'] = sorted(fo['story'])\n",
    "filters['secondary']['garment_pattern'] = sorted(fo['garment_pattern'])\n",
    "filters['secondary']['print_pattern_type'] = sorted(fo['print_pattern_type'])\n",
    "filters['secondary']['number_of_components'] = sorted(fo['number_of_components'])\n",
    "filters['secondary']['number_of_pockets'] = sorted(fo['number_of_pockets'])\n",
    "filters['secondary']['pocket_type'] = sorted(fo['pocket_type'])\n",
    "filters['secondary']['neck'] = sorted(fo['neck'])\n",
    "filters['secondary']['collar'] = sorted(fo['collar'])\n",
    "filters['secondary']['placket'] = sorted(fo['placket'])\n",
    "filters['secondary']['length'] = sorted(fo['length'])\n",
    "filters['secondary']['sleeve_length'] = sorted(fo['sleeve_length'])\n",
    "filters['secondary']['sleeve_type'] = sorted(fo['sleeve_type'])\n",
    "filters['secondary']['hemline'] = sorted(fo['hemline'])\n",
    "filters['secondary']['waist_rise'] = sorted(fo['waist_rise'])\n",
    "filters['secondary']['footwear_ankle_type'] = sorted(fo['footwear_ankle_type'])\n",
    "filters['secondary']['closure'] = sorted(fo['closure'])\n",
    "filters['secondary']['footwear_insole'] = sorted(fo['footwear_insole'])\n",
    "filters['secondary']['fabric_story'] = sorted(fo['fabric_story'])\n",
    "filters['secondary']['fabric_weave_pattern'] = sorted(fo['fabric_weave_pattern'])\n",
    "filters['secondary']['wash_care'] = sorted(fo['wash_care'])\n",
    "filters['secondary']['footwear_upper_material'] = sorted(fo['footwear_upper_material'])\n",
    "filters['secondary']['footwear_sole_material'] = sorted(fo['footwear_sole_material'])\n",
    "filters['secondary']['fabric_composition'] = sorted(fo['fabric_composition'])\n",
    "filters['secondary']['denim_cast'] = sorted(fo['denim_cast'])\n",
    "with open('../static/filters.json', 'w') as f:\n",
    "    json.dump(filters, f, indent=2)"
   ]
  },
  {
   "cell_type": "code",
   "execution_count": 6,
   "metadata": {},
   "outputs": [],
   "source": [
    "# Create fieldoptions.csv to upload to google sheets\n",
    "\n",
    "\n",
    "fo['color_family'] = list(colors['colors'].keys())\n",
    "df = pd.DataFrame()\n",
    "for key, value in fo.items():\n",
    "    temp_df = pd.DataFrame({key: value})\n",
    "    df = df.merge(temp_df, how=\"outer\", left_index=True, right_index=True)\n",
    "df.to_csv('../static/fieldoptions.csv', index=False)"
   ]
  },
  {
   "cell_type": "code",
   "execution_count": 7,
   "metadata": {},
   "outputs": [],
   "source": [
    "# REMINDER: bump the version"
   ]
  },
  {
   "cell_type": "code",
   "execution_count": 8,
   "metadata": {},
   "outputs": [],
   "source": [
    "# filter the columns that are not empty\n",
    "# f = f[f.columns[f.isnull().mean() < 1]]\n",
    "# f"
   ]
  },
  {
   "cell_type": "code",
   "execution_count": 9,
   "metadata": {},
   "outputs": [],
   "source": [
    "# # put new colors into colors.json\n",
    "# import numpy as np\n",
    "\n",
    "# for idx, row in f.iterrows():\n",
    "#     if row['color_family'] in colors['colors'].keys():\n",
    "#         if row['primary_colour'] not in colors['colors'][row['color_family']]:\n",
    "#             colors['colors'][row['color_family']].append(f.loc[idx, 'primary_colour'])\n",
    "#             f.loc[idx, 'primary_colour'] = np.nan\n",
    "#             f.loc[idx, 'color_family'] = np.nan\n",
    "\n",
    "    # if row['story'] not in filters['primary']['story'] and type(row['story']) == str:\n",
    "    #     filters['primary']['story'].append(row['story'])\n",
    "    #     f.loc[idx, 'story'] = np.nan\n",
    "    # if row['garment_pattern'] not in filters['secondary']['garment_pattern'] and type(row['garment_pattern']) == str:\n",
    "    #     filters['secondary']['garment_pattern'].append(row['garment_pattern'])\n",
    "    #     f.loc[idx, 'garment_pattern'] = np.nan\n",
    "    # if row['print_pattern_type'] not in filters['secondary']['print_pattern_type'] and type(row['print_pattern_type']) == str:\n",
    "    #     filters['secondary']['print_pattern_type'].append(row['print_pattern_type'])\n",
    "    #     f.loc[idx, 'print_pattern_type'] = np.nan\n",
    "    # if row['neck'] not in filters['secondary']['neck'] and type(row['neck']) == str:\n",
    "    #     filters['secondary']['neck'].append(row['neck'])\n",
    "    #     f.loc[idx, 'neck'] = np.nan\n",
    "    # if row['collar'] not in filters['secondary']['collar'] and type(row['collar']) == str:\n",
    "    #     filters['secondary']['collar'].append(row['collar'])\n",
    "    #     f.loc[idx, 'collar'] = np.nan\n",
    "    # if row['length'] not in filters['secondary']['length'] and type(row['length']) == str:\n",
    "    #     filters['secondary']['length'].append(row['length'])\n",
    "    #     f.loc[idx, 'length'] = np.nan\n",
    "    # if row['sleeve_type'] not in filters['secondary']['sleeve_type'] and type(row['sleeve_type']) == str:\n",
    "    #     filters['secondary']['sleeve_type'].append(row['sleeve_type'])\n",
    "    #     f.loc[idx, 'sleeve_type'] = np.nan\n",
    "    # if row['hemline'] not in filters['secondary']['hemline'] and type(row['hemline']) == str:\n",
    "    #     filters['secondary']['hemline'].append(row['hemline'])\n",
    "    #     f.loc[idx, 'hemline'] = np.nan\n",
    "    # if row['denim_cast'] not in filters['secondary']['denim_cast'] and type(row['denim_cast']) == str:\n",
    "    #     filters['secondary']['denim_cast'].append(row['denim_cast'])\n",
    "    #     f.loc[idx, 'denim_cast'] = np.nan\n",
    "\n",
    "# # with open('../static/colors.json', 'w') as f:\n",
    "# #     json.dump(colors, f)"
   ]
  },
  {
   "cell_type": "code",
   "execution_count": null,
   "metadata": {},
   "outputs": [],
   "source": []
  }
 ],
 "metadata": {
  "kernelspec": {
   "display_name": "crafted",
   "language": "python",
   "name": "python3"
  },
  "language_info": {
   "codemirror_mode": {
    "name": "ipython",
    "version": 3
   },
   "file_extension": ".py",
   "mimetype": "text/x-python",
   "name": "python",
   "nbconvert_exporter": "python",
   "pygments_lexer": "ipython3",
   "version": "3.10.11"
  }
 },
 "nbformat": 4,
 "nbformat_minor": 2
}
