{
 "cells": [
  {
   "cell_type": "code",
   "execution_count": 23,
   "metadata": {},
   "outputs": [],
   "source": [
    "import json\n",
    "import pandas as pd"
   ]
  },
  {
   "cell_type": "code",
   "execution_count": 59,
   "metadata": {},
   "outputs": [],
   "source": [
    "fieldoptions = pd.read_csv('../static/fieldoptions.csv')\n",
    "fieldoptions = fieldoptions.apply(lambda x: x.sort_values().reset_index(drop=True))\n",
    "hierarchy = pd.read_csv('../static/hierarchy.csv')\n",
    "with open('../static/colors.json') as f:\n",
    "    colors = json.load(f)\n",
    "with open('../static/filters.json') as f:\n",
    "    og_filters = json.load(f)"
   ]
  },
  {
   "cell_type": "code",
   "execution_count": 60,
   "metadata": {},
   "outputs": [
    {
     "data": {
      "text/plain": [
       "set()"
      ]
     },
     "execution_count": 60,
     "metadata": {},
     "output_type": "execute_result"
    }
   ],
   "source": [
    "all_colors = []\n",
    "for fam in colors['colors'].keys():\n",
    "    all_colors += colors['colors'][fam]\n",
    "set(all_colors) - set(fieldoptions['primary_colour'].unique())"
   ]
  },
  {
   "cell_type": "code",
   "execution_count": 61,
   "metadata": {},
   "outputs": [],
   "source": [
    "filters = {'primary': {}, 'secondary': {}}\n",
    "for filter in og_filters['primary'].keys():\n",
    "    filters['primary'][filter] = []\n",
    "for filter in og_filters['secondary'].keys():\n",
    "    filters['secondary'][filter] = []\n",
    "\n",
    "for filter in og_filters['primary'].keys():\n",
    "    if filter in hierarchy.columns:\n",
    "        filters['primary'][filter] = hierarchy[filter].unique().tolist()\n",
    "    elif filter in fieldoptions.columns:\n",
    "        filters['primary'][filter] = fieldoptions[filter].unique().tolist()\n",
    "\n",
    "for filter in og_filters['secondary'].keys():\n",
    "    filters['secondary'][filter] = fieldoptions[filter].unique().tolist()\n",
    "\n",
    "filters['primary']['colour_family'] = og_filters['primary']['colour_family']\n",
    "filters['primary']['status'] = og_filters['primary']['status']\n",
    "filters['primary']['deleted'] = og_filters['primary']['deleted']\n",
    "\n",
    "with open('../static/filters2.json', 'w') as f:\n",
    "    json.dump(filters, f)\n",
    "# Manually remove NaN"
   ]
  },
  {
   "cell_type": "code",
   "execution_count": null,
   "metadata": {},
   "outputs": [],
   "source": []
  }
 ],
 "metadata": {
  "kernelspec": {
   "display_name": "crafted",
   "language": "python",
   "name": "python3"
  },
  "language_info": {
   "codemirror_mode": {
    "name": "ipython",
    "version": 3
   },
   "file_extension": ".py",
   "mimetype": "text/x-python",
   "name": "python",
   "nbconvert_exporter": "python",
   "pygments_lexer": "ipython3",
   "version": "3.10.8"
  },
  "orig_nbformat": 4
 },
 "nbformat": 4,
 "nbformat_minor": 2
}
