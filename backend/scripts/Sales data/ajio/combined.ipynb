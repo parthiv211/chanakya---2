{
 "cells": [
  {
   "cell_type": "code",
   "execution_count": 1,
   "metadata": {},
   "outputs": [],
   "source": [
    "import pandas as pd\n",
    "from ydata_profiling import ProfileReport"
   ]
  },
  {
   "cell_type": "code",
   "execution_count": 2,
   "metadata": {},
   "outputs": [],
   "source": [
    "df1 = pd.read_csv('../../../data/ajio sales summary/summary2016.csv')\n",
    "df2 = pd.read_csv('../../../data/ajio sales summary/summary2017.csv')\n",
    "df3 = pd.read_csv('../../../data/ajio sales summary/summary2018.csv')\n",
    "df4 = pd.read_csv('../../../data/ajio sales summary/summary2019.csv')\n",
    "df5 = pd.read_csv('../../../data/ajio sales summary/summary2020.csv')"
   ]
  },
  {
   "cell_type": "code",
   "execution_count": 3,
   "metadata": {},
   "outputs": [],
   "source": [
    "df = pd.concat([df1,df2,df3,df4,df5])\n",
    "df['date'] = pd.to_datetime(df['date'])\n",
    "df = df[['date', 'ean', 'qty', 'status', 'mrp/pc', 'sp/pc','margin/pc']]\n",
    "profile = ProfileReport(df, title=\"Pandas Profiling Report\", minimal=True)\n",
    "profile.to_notebook_iframe()"
   ]
  },
  {
   "cell_type": "code",
   "execution_count": 4,
   "metadata": {},
   "outputs": [],
   "source": [
    "pd.options.display.max_seq_items = 20000\n",
    "pd.date_range(start = '2016-11-01', end = '2022-09-30' ).difference(df['date'].unique())\n"
   ]
  },
  {
   "cell_type": "code",
   "execution_count": 5,
   "metadata": {},
   "outputs": [],
   "source": [
    "# margin calculated on net sales with tax + own fund\n",
    "# 12-Apr-18 8907658569526 8907658569434 sp/pc = 37?\n",
    "# the item with mrp = 10380\n",
    "\n",
    "# missing dates\n",
    "# '2016-11-02',\n",
    "# '2016-11-03',\n",
    "# '2016-11-09',\n",
    "# '2016-11-10',\n",
    "# '2016-11-11',\n",
    "# '2016-11-12',\n",
    "# '2016-11-13',\n",
    "# '2016-11-14',\n",
    "# '2016-11-20',\n",
    "# '2016-11-23',\n",
    "# '2016-11-25',\n",
    "\n",
    "# '2017-07-01',\n",
    "\n",
    "# '2020-03-26',\n",
    "# '2020-03-27',\n",
    "# '2020-03-28',\n",
    "# '2020-03-29',\n",
    "# '2020-03-30',\n",
    "# '2020-03-31',\n",
    "\n",
    "# '2020-04-02',\n",
    "# '2020-04-03',\n",
    "# '2020-04-04',\n",
    "# '2020-04-05',\n",
    "# '2020-04-06',\n",
    "# '2020-04-08',\n",
    "# '2020-04-09',\n",
    "# '2020-04-10',\n",
    "# '2020-04-12',\n",
    "# '2020-04-14',\n",
    "# '2020-04-16',\n",
    "# '2020-04-17',\n",
    "# '2020-04-18',\n",
    "# '2020-04-20',\n",
    "# '2020-04-21',\n",
    "# '2020-04-24',\n",
    "# '2020-04-25',\n",
    "# '2020-04-27',\n",
    "\n",
    "# '2020-05-01',\n",
    "\n",
    "# all dates are 31st dec\n",
    "# '2018-12',\n",
    "\n",
    "# no ean column\n",
    "# '2021-04',\n",
    "# '2021-05',\n",
    "# '2021-06',\n",
    "# '2021-07',\n",
    "# '2021-08',\n",
    "# '2021-09',\n",
    "\n",
    "# 2022-04 some eans are variant codes"
   ]
  },
  {
   "cell_type": "code",
   "execution_count": 8,
   "metadata": {},
   "outputs": [],
   "source": [
    "df.to_csv('ajio_sales.csv',index=False)"
   ]
  },
  {
   "cell_type": "code",
   "execution_count": null,
   "metadata": {},
   "outputs": [],
   "source": []
  }
 ],
 "metadata": {
  "kernelspec": {
   "display_name": "crafted",
   "language": "python",
   "name": "python3"
  },
  "language_info": {
   "codemirror_mode": {
    "name": "ipython",
    "version": 3
   },
   "file_extension": ".py",
   "mimetype": "text/x-python",
   "name": "python",
   "nbconvert_exporter": "python",
   "pygments_lexer": "ipython3",
   "version": "3.10.9"
  },
  "orig_nbformat": 4,
  "vscode": {
   "interpreter": {
    "hash": "e5f4339a5f33a1d8f749cf2c3a15b0db501921ae0c24ed7d65c141f79cb55df0"
   }
  }
 },
 "nbformat": 4,
 "nbformat_minor": 2
}
