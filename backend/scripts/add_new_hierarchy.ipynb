{
 "cells": [
  {
   "cell_type": "code",
   "execution_count": 1,
   "metadata": {},
   "outputs": [],
   "source": [
    "import pandas as pd"
   ]
  },
  {
   "cell_type": "code",
   "execution_count": 2,
   "metadata": {},
   "outputs": [],
   "source": [
    "t = pd.read_csv(\"C:/Users/PARTHIV/Downloads\\Hierarchy and Field Options.xlsx - New Hierarchy (3).csv\")\n",
    "h = pd.read_csv(\"../static/hierarchy.csv\")\n",
    "\n",
    "t.standard_size = t.standard_size.astype(\"str\")\n",
    "t = t.apply(lambda x: x.str.strip() if x.dtype == \"object\" else x)\n",
    "t = t.apply(lambda x: x.str.title() if x.name in {\n",
    "    \"gender\",\n",
    "    \"vertical\",\n",
    "    \"fabric_category\",\n",
    "    \"brand\",\n",
    "    \"usage\",\n",
    "    \"brick\",\n",
    "    \"product\",\n",
    "    \"sub_product\",\n",
    "    \"target_audience\",\n",
    "    \"fit\",\n",
    "} else x)\n",
    "\n",
    "# t.sub_product.replace(\"Kaftaan\", \"Kaftan\", inplace=True)\n",
    "# t.fit.replace(\"Flared\", \"Flare\", inplace=True)\n",
    "# t.usage.replace(\"Causal\", \"Casual\", inplace=True)\n",
    "\n",
    "t.drop_duplicates(inplace=True)"
   ]
  },
  {
   "cell_type": "code",
   "execution_count": 3,
   "metadata": {},
   "outputs": [
    {
     "data": {
      "text/plain": [
       "(array(['Men'], dtype=object),\n",
       " array(['Apparel'], dtype=object),\n",
       " array(['Woven', 'Knitted'], dtype=object),\n",
       " array(['The Indian Garage Co'], dtype=object),\n",
       " array(['Bottomwear', 'Topwear'], dtype=object),\n",
       " array(['Core', 'Youth'], dtype=object))"
      ]
     },
     "execution_count": 3,
     "metadata": {},
     "output_type": "execute_result"
    }
   ],
   "source": [
    "t.gender.unique(), t.vertical.unique(), t.fabric_category.unique(), t.brand.unique(), t.brick.unique(),  t.target_audience.unique()"
   ]
  },
  {
   "cell_type": "code",
   "execution_count": 4,
   "metadata": {},
   "outputs": [
    {
     "data": {
      "text/plain": [
       "['Casual', 'Street']"
      ]
     },
     "execution_count": 4,
     "metadata": {},
     "output_type": "execute_result"
    }
   ],
   "source": [
    "sorted(t.usage.unique())"
   ]
  },
  {
   "cell_type": "code",
   "execution_count": 5,
   "metadata": {},
   "outputs": [
    {
     "data": {
      "text/plain": [
       "['Cargo', 'Jeans', 'Polo T-Shirt']"
      ]
     },
     "execution_count": 5,
     "metadata": {},
     "output_type": "execute_result"
    }
   ],
   "source": [
    "sorted(t.sub_product.unique())"
   ]
  },
  {
   "cell_type": "code",
   "execution_count": 6,
   "metadata": {},
   "outputs": [
    {
     "data": {
      "text/plain": [
       "['Baggy',\n",
       " 'Baggy Cargo',\n",
       " 'E550 Slim',\n",
       " 'E551 Slim Straight',\n",
       " 'E552 Baggy',\n",
       " 'E553 Relaxed Straight',\n",
       " 'E556 Relaxed Cargo',\n",
       " 'E557 Relaxed Jogger',\n",
       " 'E558 Relaxed Cargo',\n",
       " 'E559 Relaxed',\n",
       " 'E560 Regular Tapered',\n",
       " 'E561 Barrel Loose',\n",
       " 'Slim']"
      ]
     },
     "execution_count": 6,
     "metadata": {},
     "output_type": "execute_result"
    }
   ],
   "source": [
    "sorted(t.fit.unique())"
   ]
  },
  {
   "cell_type": "code",
   "execution_count": 7,
   "metadata": {},
   "outputs": [
    {
     "data": {
      "text/plain": [
       "['28', '30', '32', '34', '36', '38', 'L', 'M', 'S', 'XL']"
      ]
     },
     "execution_count": 7,
     "metadata": {},
     "output_type": "execute_result"
    }
   ],
   "source": [
    "sorted(t.standard_size.unique())"
   ]
  },
  {
   "cell_type": "code",
   "execution_count": 8,
   "metadata": {},
   "outputs": [],
   "source": [
    "h.set_index(['gender', 'vertical', 'fabric_category', 'brand', 'usage', 'brick',\n",
    "       'product', 'sub_product', 'target_audience', 'fit', 'standard_size'], inplace=True)\n",
    "t.set_index(['gender', 'vertical', 'fabric_category', 'brand', 'usage', 'brick',\n",
    "       'product', 'sub_product', 'target_audience', 'fit', 'standard_size'], inplace=True)\n",
    "common_index = h.index.intersection(t.index)"
   ]
  },
  {
   "cell_type": "code",
   "execution_count": 9,
   "metadata": {},
   "outputs": [
    {
     "data": {
      "text/html": [
       "<div>\n",
       "<style scoped>\n",
       "    .dataframe tbody tr th:only-of-type {\n",
       "        vertical-align: middle;\n",
       "    }\n",
       "\n",
       "    .dataframe tbody tr th {\n",
       "        vertical-align: top;\n",
       "    }\n",
       "\n",
       "    .dataframe thead th {\n",
       "        text-align: right;\n",
       "    }\n",
       "</style>\n",
       "<table border=\"1\" class=\"dataframe\">\n",
       "  <thead>\n",
       "    <tr style=\"text-align: right;\">\n",
       "      <th></th>\n",
       "      <th></th>\n",
       "      <th></th>\n",
       "      <th></th>\n",
       "      <th></th>\n",
       "      <th></th>\n",
       "      <th></th>\n",
       "      <th></th>\n",
       "      <th></th>\n",
       "      <th></th>\n",
       "      <th></th>\n",
       "      <th>barcode_size</th>\n",
       "      <th>garment_waist</th>\n",
       "      <th>inseam_length</th>\n",
       "      <th>to_fit_waist</th>\n",
       "      <th>across_shoulder</th>\n",
       "      <th>chest</th>\n",
       "      <th>front_length</th>\n",
       "      <th>to_fit_foot_length</th>\n",
       "      <th>outseam length</th>\n",
       "      <th>sleeve_length</th>\n",
       "      <th>outseam_length</th>\n",
       "      <th>Sleeve length</th>\n",
       "      <th>full_sleeve_length</th>\n",
       "      <th>half_sleeve_length</th>\n",
       "      <th>long_sleeve_length</th>\n",
       "      <th>short_sleeve_length</th>\n",
       "      <th>quarter_sleeve_length</th>\n",
       "      <th>to__waist</th>\n",
       "      <th>to__foot_length</th>\n",
       "    </tr>\n",
       "    <tr>\n",
       "      <th>gender</th>\n",
       "      <th>vertical</th>\n",
       "      <th>fabric_category</th>\n",
       "      <th>brand</th>\n",
       "      <th>usage</th>\n",
       "      <th>brick</th>\n",
       "      <th>product</th>\n",
       "      <th>sub_product</th>\n",
       "      <th>target_audience</th>\n",
       "      <th>fit</th>\n",
       "      <th>standard_size</th>\n",
       "      <th></th>\n",
       "      <th></th>\n",
       "      <th></th>\n",
       "      <th></th>\n",
       "      <th></th>\n",
       "      <th></th>\n",
       "      <th></th>\n",
       "      <th></th>\n",
       "      <th></th>\n",
       "      <th></th>\n",
       "      <th></th>\n",
       "      <th></th>\n",
       "      <th></th>\n",
       "      <th></th>\n",
       "      <th></th>\n",
       "      <th></th>\n",
       "      <th></th>\n",
       "      <th></th>\n",
       "      <th></th>\n",
       "    </tr>\n",
       "  </thead>\n",
       "  <tbody>\n",
       "  </tbody>\n",
       "</table>\n",
       "</div>"
      ],
      "text/plain": [
       "Empty DataFrame\n",
       "Columns: [barcode_size, garment_waist, inseam_length, to_fit_waist, across_shoulder, chest, front_length, to_fit_foot_length, outseam length, sleeve_length, outseam_length, Sleeve length, full_sleeve_length, half_sleeve_length, long_sleeve_length, short_sleeve_length, quarter_sleeve_length, to__waist, to__foot_length]\n",
       "Index: []"
      ]
     },
     "execution_count": 9,
     "metadata": {},
     "output_type": "execute_result"
    }
   ],
   "source": [
    "h.loc[common_index]"
   ]
  },
  {
   "cell_type": "code",
   "execution_count": 10,
   "metadata": {},
   "outputs": [
    {
     "data": {
      "text/html": [
       "<div>\n",
       "<style scoped>\n",
       "    .dataframe tbody tr th:only-of-type {\n",
       "        vertical-align: middle;\n",
       "    }\n",
       "\n",
       "    .dataframe tbody tr th {\n",
       "        vertical-align: top;\n",
       "    }\n",
       "\n",
       "    .dataframe thead th {\n",
       "        text-align: right;\n",
       "    }\n",
       "</style>\n",
       "<table border=\"1\" class=\"dataframe\">\n",
       "  <thead>\n",
       "    <tr style=\"text-align: right;\">\n",
       "      <th></th>\n",
       "      <th></th>\n",
       "      <th></th>\n",
       "      <th></th>\n",
       "      <th></th>\n",
       "      <th></th>\n",
       "      <th></th>\n",
       "      <th></th>\n",
       "      <th></th>\n",
       "      <th></th>\n",
       "      <th></th>\n",
       "      <th>barcode_size</th>\n",
       "      <th>garment_waist</th>\n",
       "      <th>inseam_length</th>\n",
       "      <th>to_fit_waist</th>\n",
       "      <th>outseam_length</th>\n",
       "      <th>across_shoulder</th>\n",
       "      <th>chest</th>\n",
       "      <th>front_length</th>\n",
       "      <th>full_sleeve_length</th>\n",
       "      <th>half_sleeve_length</th>\n",
       "      <th>long_sleeve_length</th>\n",
       "      <th>short_sleeve_length</th>\n",
       "      <th>quarter_sleeve_length</th>\n",
       "      <th>to_fit_foot_length</th>\n",
       "    </tr>\n",
       "    <tr>\n",
       "      <th>gender</th>\n",
       "      <th>vertical</th>\n",
       "      <th>fabric_category</th>\n",
       "      <th>brand</th>\n",
       "      <th>usage</th>\n",
       "      <th>brick</th>\n",
       "      <th>product</th>\n",
       "      <th>sub_product</th>\n",
       "      <th>target_audience</th>\n",
       "      <th>fit</th>\n",
       "      <th>standard_size</th>\n",
       "      <th></th>\n",
       "      <th></th>\n",
       "      <th></th>\n",
       "      <th></th>\n",
       "      <th></th>\n",
       "      <th></th>\n",
       "      <th></th>\n",
       "      <th></th>\n",
       "      <th></th>\n",
       "      <th></th>\n",
       "      <th></th>\n",
       "      <th></th>\n",
       "      <th></th>\n",
       "      <th></th>\n",
       "    </tr>\n",
       "  </thead>\n",
       "  <tbody>\n",
       "  </tbody>\n",
       "</table>\n",
       "</div>"
      ],
      "text/plain": [
       "Empty DataFrame\n",
       "Columns: [barcode_size, garment_waist, inseam_length, to_fit_waist, outseam_length, across_shoulder, chest, front_length, full_sleeve_length, half_sleeve_length, long_sleeve_length, short_sleeve_length, quarter_sleeve_length, to_fit_foot_length]\n",
       "Index: []"
      ]
     },
     "execution_count": 10,
     "metadata": {},
     "output_type": "execute_result"
    }
   ],
   "source": [
    "t.loc[common_index]"
   ]
  },
  {
   "cell_type": "code",
   "execution_count": 11,
   "metadata": {},
   "outputs": [
    {
     "data": {
      "text/html": [
       "<div>\n",
       "<style scoped>\n",
       "    .dataframe tbody tr th:only-of-type {\n",
       "        vertical-align: middle;\n",
       "    }\n",
       "\n",
       "    .dataframe tbody tr th {\n",
       "        vertical-align: top;\n",
       "    }\n",
       "\n",
       "    .dataframe thead th {\n",
       "        text-align: right;\n",
       "    }\n",
       "</style>\n",
       "<table border=\"1\" class=\"dataframe\">\n",
       "  <thead>\n",
       "    <tr style=\"text-align: right;\">\n",
       "      <th></th>\n",
       "      <th></th>\n",
       "      <th></th>\n",
       "      <th></th>\n",
       "      <th></th>\n",
       "      <th></th>\n",
       "      <th></th>\n",
       "      <th></th>\n",
       "      <th></th>\n",
       "      <th></th>\n",
       "      <th></th>\n",
       "      <th>barcode_size</th>\n",
       "      <th>garment_waist</th>\n",
       "      <th>inseam_length</th>\n",
       "      <th>to_fit_waist</th>\n",
       "      <th>across_shoulder</th>\n",
       "      <th>chest</th>\n",
       "      <th>front_length</th>\n",
       "      <th>to_fit_foot_length</th>\n",
       "      <th>outseam length</th>\n",
       "      <th>sleeve_length</th>\n",
       "      <th>outseam_length</th>\n",
       "      <th>Sleeve length</th>\n",
       "      <th>full_sleeve_length</th>\n",
       "      <th>half_sleeve_length</th>\n",
       "      <th>long_sleeve_length</th>\n",
       "      <th>short_sleeve_length</th>\n",
       "      <th>quarter_sleeve_length</th>\n",
       "      <th>to__waist</th>\n",
       "      <th>to__foot_length</th>\n",
       "    </tr>\n",
       "    <tr>\n",
       "      <th>gender</th>\n",
       "      <th>vertical</th>\n",
       "      <th>fabric_category</th>\n",
       "      <th>brand</th>\n",
       "      <th>usage</th>\n",
       "      <th>brick</th>\n",
       "      <th>product</th>\n",
       "      <th>sub_product</th>\n",
       "      <th>target_audience</th>\n",
       "      <th>fit</th>\n",
       "      <th>standard_size</th>\n",
       "      <th></th>\n",
       "      <th></th>\n",
       "      <th></th>\n",
       "      <th></th>\n",
       "      <th></th>\n",
       "      <th></th>\n",
       "      <th></th>\n",
       "      <th></th>\n",
       "      <th></th>\n",
       "      <th></th>\n",
       "      <th></th>\n",
       "      <th></th>\n",
       "      <th></th>\n",
       "      <th></th>\n",
       "      <th></th>\n",
       "      <th></th>\n",
       "      <th></th>\n",
       "      <th></th>\n",
       "      <th></th>\n",
       "    </tr>\n",
       "  </thead>\n",
       "  <tbody>\n",
       "  </tbody>\n",
       "</table>\n",
       "</div>"
      ],
      "text/plain": [
       "Empty DataFrame\n",
       "Columns: [barcode_size, garment_waist, inseam_length, to_fit_waist, across_shoulder, chest, front_length, to_fit_foot_length, outseam length, sleeve_length, outseam_length, Sleeve length, full_sleeve_length, half_sleeve_length, long_sleeve_length, short_sleeve_length, quarter_sleeve_length, to__waist, to__foot_length]\n",
       "Index: []"
      ]
     },
     "execution_count": 11,
     "metadata": {},
     "output_type": "execute_result"
    }
   ],
   "source": [
    "h[h.index.duplicated(keep=False)]"
   ]
  },
  {
   "cell_type": "code",
   "execution_count": 12,
   "metadata": {},
   "outputs": [
    {
     "data": {
      "text/html": [
       "<div>\n",
       "<style scoped>\n",
       "    .dataframe tbody tr th:only-of-type {\n",
       "        vertical-align: middle;\n",
       "    }\n",
       "\n",
       "    .dataframe tbody tr th {\n",
       "        vertical-align: top;\n",
       "    }\n",
       "\n",
       "    .dataframe thead th {\n",
       "        text-align: right;\n",
       "    }\n",
       "</style>\n",
       "<table border=\"1\" class=\"dataframe\">\n",
       "  <thead>\n",
       "    <tr style=\"text-align: right;\">\n",
       "      <th></th>\n",
       "      <th></th>\n",
       "      <th></th>\n",
       "      <th></th>\n",
       "      <th></th>\n",
       "      <th></th>\n",
       "      <th></th>\n",
       "      <th></th>\n",
       "      <th></th>\n",
       "      <th></th>\n",
       "      <th></th>\n",
       "      <th>barcode_size</th>\n",
       "      <th>garment_waist</th>\n",
       "      <th>inseam_length</th>\n",
       "      <th>to_fit_waist</th>\n",
       "      <th>outseam_length</th>\n",
       "      <th>across_shoulder</th>\n",
       "      <th>chest</th>\n",
       "      <th>front_length</th>\n",
       "      <th>full_sleeve_length</th>\n",
       "      <th>half_sleeve_length</th>\n",
       "      <th>long_sleeve_length</th>\n",
       "      <th>short_sleeve_length</th>\n",
       "      <th>quarter_sleeve_length</th>\n",
       "      <th>to_fit_foot_length</th>\n",
       "    </tr>\n",
       "    <tr>\n",
       "      <th>gender</th>\n",
       "      <th>vertical</th>\n",
       "      <th>fabric_category</th>\n",
       "      <th>brand</th>\n",
       "      <th>usage</th>\n",
       "      <th>brick</th>\n",
       "      <th>product</th>\n",
       "      <th>sub_product</th>\n",
       "      <th>target_audience</th>\n",
       "      <th>fit</th>\n",
       "      <th>standard_size</th>\n",
       "      <th></th>\n",
       "      <th></th>\n",
       "      <th></th>\n",
       "      <th></th>\n",
       "      <th></th>\n",
       "      <th></th>\n",
       "      <th></th>\n",
       "      <th></th>\n",
       "      <th></th>\n",
       "      <th></th>\n",
       "      <th></th>\n",
       "      <th></th>\n",
       "      <th></th>\n",
       "      <th></th>\n",
       "    </tr>\n",
       "  </thead>\n",
       "  <tbody>\n",
       "  </tbody>\n",
       "</table>\n",
       "</div>"
      ],
      "text/plain": [
       "Empty DataFrame\n",
       "Columns: [barcode_size, garment_waist, inseam_length, to_fit_waist, outseam_length, across_shoulder, chest, front_length, full_sleeve_length, half_sleeve_length, long_sleeve_length, short_sleeve_length, quarter_sleeve_length, to_fit_foot_length]\n",
       "Index: []"
      ]
     },
     "execution_count": 12,
     "metadata": {},
     "output_type": "execute_result"
    }
   ],
   "source": [
    "t[t.index.duplicated(keep=False)]"
   ]
  },
  {
   "cell_type": "code",
   "execution_count": 13,
   "metadata": {},
   "outputs": [],
   "source": [
    "# t[t.index.duplicated(keep=False)].to_csv('../static/duplicate-hierarchies.csv')\n",
    "# t = t[~t.index.duplicated(keep='last')]"
   ]
  },
  {
   "cell_type": "code",
   "execution_count": 14,
   "metadata": {},
   "outputs": [
    {
     "data": {
      "text/html": [
       "<div>\n",
       "<style scoped>\n",
       "    .dataframe tbody tr th:only-of-type {\n",
       "        vertical-align: middle;\n",
       "    }\n",
       "\n",
       "    .dataframe tbody tr th {\n",
       "        vertical-align: top;\n",
       "    }\n",
       "\n",
       "    .dataframe thead th {\n",
       "        text-align: right;\n",
       "    }\n",
       "</style>\n",
       "<table border=\"1\" class=\"dataframe\">\n",
       "  <thead>\n",
       "    <tr style=\"text-align: right;\">\n",
       "      <th></th>\n",
       "      <th></th>\n",
       "      <th></th>\n",
       "      <th></th>\n",
       "      <th></th>\n",
       "      <th></th>\n",
       "      <th></th>\n",
       "      <th></th>\n",
       "      <th></th>\n",
       "      <th></th>\n",
       "      <th></th>\n",
       "      <th>barcode_size</th>\n",
       "      <th>garment_waist</th>\n",
       "      <th>inseam_length</th>\n",
       "      <th>to_fit_waist</th>\n",
       "      <th>across_shoulder</th>\n",
       "      <th>chest</th>\n",
       "      <th>front_length</th>\n",
       "      <th>to_fit_foot_length</th>\n",
       "      <th>outseam length</th>\n",
       "      <th>sleeve_length</th>\n",
       "      <th>outseam_length</th>\n",
       "      <th>Sleeve length</th>\n",
       "      <th>full_sleeve_length</th>\n",
       "      <th>half_sleeve_length</th>\n",
       "      <th>long_sleeve_length</th>\n",
       "      <th>short_sleeve_length</th>\n",
       "      <th>quarter_sleeve_length</th>\n",
       "      <th>to__waist</th>\n",
       "      <th>to__foot_length</th>\n",
       "    </tr>\n",
       "    <tr>\n",
       "      <th>gender</th>\n",
       "      <th>vertical</th>\n",
       "      <th>fabric_category</th>\n",
       "      <th>brand</th>\n",
       "      <th>usage</th>\n",
       "      <th>brick</th>\n",
       "      <th>product</th>\n",
       "      <th>sub_product</th>\n",
       "      <th>target_audience</th>\n",
       "      <th>fit</th>\n",
       "      <th>standard_size</th>\n",
       "      <th></th>\n",
       "      <th></th>\n",
       "      <th></th>\n",
       "      <th></th>\n",
       "      <th></th>\n",
       "      <th></th>\n",
       "      <th></th>\n",
       "      <th></th>\n",
       "      <th></th>\n",
       "      <th></th>\n",
       "      <th></th>\n",
       "      <th></th>\n",
       "      <th></th>\n",
       "      <th></th>\n",
       "      <th></th>\n",
       "      <th></th>\n",
       "      <th></th>\n",
       "      <th></th>\n",
       "      <th></th>\n",
       "    </tr>\n",
       "  </thead>\n",
       "  <tbody>\n",
       "  </tbody>\n",
       "</table>\n",
       "</div>"
      ],
      "text/plain": [
       "Empty DataFrame\n",
       "Columns: [barcode_size, garment_waist, inseam_length, to_fit_waist, across_shoulder, chest, front_length, to_fit_foot_length, outseam length, sleeve_length, outseam_length, Sleeve length, full_sleeve_length, half_sleeve_length, long_sleeve_length, short_sleeve_length, quarter_sleeve_length, to__waist, to__foot_length]\n",
       "Index: []"
      ]
     },
     "execution_count": 14,
     "metadata": {},
     "output_type": "execute_result"
    }
   ],
   "source": [
    "h.update(t)\n",
    "h.loc[common_index]\n",
    "\n",
    "# print(h.index[h.index.duplicated(keep=False)])\n",
    "# h.loc[common_index, :] = t.loc[common_index, :]"
   ]
  },
  {
   "cell_type": "code",
   "execution_count": 15,
   "metadata": {},
   "outputs": [
    {
     "name": "stderr",
     "output_type": "stream",
     "text": [
      "C:\\Users\\PARTHIV\\AppData\\Local\\Temp\\ipykernel_17296\\2307150090.py:2: FutureWarning: The frame.append method is deprecated and will be removed from pandas in a future version. Use pandas.concat instead.\n",
      "  h = h.append(t)\n"
     ]
    }
   ],
   "source": [
    "t.drop(common_index, inplace=True)\n",
    "h = h.append(t)"
   ]
  },
  {
   "cell_type": "code",
   "execution_count": 16,
   "metadata": {},
   "outputs": [],
   "source": [
    "h.reset_index(inplace=True)\n",
    "h.to_csv('../static/hierarchy.csv', index=False)"
   ]
  },
  {
   "cell_type": "code",
   "execution_count": 17,
   "metadata": {},
   "outputs": [],
   "source": [
    "# REMINDER: bump the version\n"
   ]
  },
  {
   "cell_type": "code",
   "execution_count": null,
   "metadata": {},
   "outputs": [],
   "source": []
  },
  {
   "cell_type": "code",
   "execution_count": null,
   "metadata": {},
   "outputs": [],
   "source": []
  },
  {
   "cell_type": "code",
   "execution_count": null,
   "metadata": {},
   "outputs": [],
   "source": []
  },
  {
   "cell_type": "code",
   "execution_count": 18,
   "metadata": {},
   "outputs": [],
   "source": [
    "# REMINDER: bump the version\n"
   ]
  }
 ],
 "metadata": {
  "kernelspec": {
   "display_name": "crafted",
   "language": "python",
   "name": "python3"
  },
  "language_info": {
   "codemirror_mode": {
    "name": "ipython",
    "version": 3
   },
   "file_extension": ".py",
   "mimetype": "text/x-python",
   "name": "python",
   "nbconvert_exporter": "python",
   "pygments_lexer": "ipython3",
   "version": "3.10.11"
  }
 },
 "nbformat": 4,
 "nbformat_minor": 2
}
